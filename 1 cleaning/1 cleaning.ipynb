{
 "cells": [
  {
   "cell_type": "code",
   "execution_count": 1,
   "id": "b2a2cb75",
   "metadata": {},
   "outputs": [],
   "source": [
    "import numpy as np\n",
    "import pandas as pd\n",
    "from sklearn.model_selection import train_test_split"
   ]
  },
  {
   "cell_type": "code",
   "execution_count": 2,
   "id": "cfa9ef03",
   "metadata": {},
   "outputs": [],
   "source": [
    "# Reading headers\n",
    "path = '/Users/tristangarcia/desktop/Network Traffic Classification/data/'\n",
    "df_headers = pd.read_csv(f'{path}NUSW-NB15_features.csv', encoding='ISO-8859-1')\n",
    "headers = [h.lower().strip() for h in df_headers['Name']]\n",
    "\n",
    "# Loading data\n",
    "'''dfs = []\n",
    "for i in range(4):\n",
    "    df = pd.read_csv(f'{path}UNSW-NB15_{i+1}.csv', names = headers)\n",
    "    dfs.append(df)\n",
    "data = pd.concat(dfs, ignore_index = True)'''\n",
    "\n",
    "data = pd.read_csv(f'{path}UNSW-NB15_4.csv', names=headers)"
   ]
  },
  {
   "cell_type": "code",
   "execution_count": 3,
   "id": "7bacbd5d",
   "metadata": {
    "scrolled": false
   },
   "outputs": [
    {
     "name": "stdout",
     "output_type": "stream",
     "text": [
      "(440044, 49)\n"
     ]
    },
    {
     "data": {
      "text/html": [
       "<div>\n",
       "<style scoped>\n",
       "    .dataframe tbody tr th:only-of-type {\n",
       "        vertical-align: middle;\n",
       "    }\n",
       "\n",
       "    .dataframe tbody tr th {\n",
       "        vertical-align: top;\n",
       "    }\n",
       "\n",
       "    .dataframe thead th {\n",
       "        text-align: right;\n",
       "    }\n",
       "</style>\n",
       "<table border=\"1\" class=\"dataframe\">\n",
       "  <thead>\n",
       "    <tr style=\"text-align: right;\">\n",
       "      <th></th>\n",
       "      <th>srcip</th>\n",
       "      <th>sport</th>\n",
       "      <th>dstip</th>\n",
       "      <th>dsport</th>\n",
       "      <th>proto</th>\n",
       "      <th>state</th>\n",
       "      <th>dur</th>\n",
       "      <th>sbytes</th>\n",
       "      <th>dbytes</th>\n",
       "      <th>sttl</th>\n",
       "      <th>...</th>\n",
       "      <th>ct_ftp_cmd</th>\n",
       "      <th>ct_srv_src</th>\n",
       "      <th>ct_srv_dst</th>\n",
       "      <th>ct_dst_ltm</th>\n",
       "      <th>ct_src_ ltm</th>\n",
       "      <th>ct_src_dport_ltm</th>\n",
       "      <th>ct_dst_sport_ltm</th>\n",
       "      <th>ct_dst_src_ltm</th>\n",
       "      <th>attack_cat</th>\n",
       "      <th>label</th>\n",
       "    </tr>\n",
       "  </thead>\n",
       "  <tbody>\n",
       "    <tr>\n",
       "      <th>0</th>\n",
       "      <td>59.166.0.9</td>\n",
       "      <td>7045</td>\n",
       "      <td>149.171.126.7</td>\n",
       "      <td>25</td>\n",
       "      <td>tcp</td>\n",
       "      <td>FIN</td>\n",
       "      <td>0.201886</td>\n",
       "      <td>37552</td>\n",
       "      <td>3380</td>\n",
       "      <td>31</td>\n",
       "      <td>...</td>\n",
       "      <td></td>\n",
       "      <td>2</td>\n",
       "      <td>2</td>\n",
       "      <td>7</td>\n",
       "      <td>4</td>\n",
       "      <td>1</td>\n",
       "      <td>1</td>\n",
       "      <td>3</td>\n",
       "      <td>NaN</td>\n",
       "      <td>0</td>\n",
       "    </tr>\n",
       "    <tr>\n",
       "      <th>1</th>\n",
       "      <td>59.166.0.9</td>\n",
       "      <td>9685</td>\n",
       "      <td>149.171.126.2</td>\n",
       "      <td>80</td>\n",
       "      <td>tcp</td>\n",
       "      <td>FIN</td>\n",
       "      <td>5.864748</td>\n",
       "      <td>19410</td>\n",
       "      <td>1087890</td>\n",
       "      <td>31</td>\n",
       "      <td>...</td>\n",
       "      <td></td>\n",
       "      <td>3</td>\n",
       "      <td>1</td>\n",
       "      <td>4</td>\n",
       "      <td>4</td>\n",
       "      <td>1</td>\n",
       "      <td>1</td>\n",
       "      <td>1</td>\n",
       "      <td>NaN</td>\n",
       "      <td>0</td>\n",
       "    </tr>\n",
       "    <tr>\n",
       "      <th>2</th>\n",
       "      <td>59.166.0.2</td>\n",
       "      <td>1421</td>\n",
       "      <td>149.171.126.4</td>\n",
       "      <td>53</td>\n",
       "      <td>udp</td>\n",
       "      <td>CON</td>\n",
       "      <td>0.001391</td>\n",
       "      <td>146</td>\n",
       "      <td>178</td>\n",
       "      <td>31</td>\n",
       "      <td>...</td>\n",
       "      <td></td>\n",
       "      <td>3</td>\n",
       "      <td>5</td>\n",
       "      <td>2</td>\n",
       "      <td>7</td>\n",
       "      <td>1</td>\n",
       "      <td>1</td>\n",
       "      <td>4</td>\n",
       "      <td>NaN</td>\n",
       "      <td>0</td>\n",
       "    </tr>\n",
       "    <tr>\n",
       "      <th>3</th>\n",
       "      <td>59.166.0.2</td>\n",
       "      <td>21553</td>\n",
       "      <td>149.171.126.2</td>\n",
       "      <td>25</td>\n",
       "      <td>tcp</td>\n",
       "      <td>FIN</td>\n",
       "      <td>0.053948</td>\n",
       "      <td>37812</td>\n",
       "      <td>3380</td>\n",
       "      <td>31</td>\n",
       "      <td>...</td>\n",
       "      <td></td>\n",
       "      <td>1</td>\n",
       "      <td>1</td>\n",
       "      <td>4</td>\n",
       "      <td>7</td>\n",
       "      <td>1</td>\n",
       "      <td>1</td>\n",
       "      <td>3</td>\n",
       "      <td>NaN</td>\n",
       "      <td>0</td>\n",
       "    </tr>\n",
       "    <tr>\n",
       "      <th>4</th>\n",
       "      <td>59.166.0.8</td>\n",
       "      <td>45212</td>\n",
       "      <td>149.171.126.4</td>\n",
       "      <td>53</td>\n",
       "      <td>udp</td>\n",
       "      <td>CON</td>\n",
       "      <td>0.000953</td>\n",
       "      <td>146</td>\n",
       "      <td>178</td>\n",
       "      <td>31</td>\n",
       "      <td>...</td>\n",
       "      <td></td>\n",
       "      <td>2</td>\n",
       "      <td>5</td>\n",
       "      <td>2</td>\n",
       "      <td>1</td>\n",
       "      <td>1</td>\n",
       "      <td>1</td>\n",
       "      <td>2</td>\n",
       "      <td>NaN</td>\n",
       "      <td>0</td>\n",
       "    </tr>\n",
       "  </tbody>\n",
       "</table>\n",
       "<p>5 rows × 49 columns</p>\n",
       "</div>"
      ],
      "text/plain": [
       "        srcip  sport          dstip dsport proto state       dur  sbytes  \\\n",
       "0  59.166.0.9   7045  149.171.126.7     25   tcp   FIN  0.201886   37552   \n",
       "1  59.166.0.9   9685  149.171.126.2     80   tcp   FIN  5.864748   19410   \n",
       "2  59.166.0.2   1421  149.171.126.4     53   udp   CON  0.001391     146   \n",
       "3  59.166.0.2  21553  149.171.126.2     25   tcp   FIN  0.053948   37812   \n",
       "4  59.166.0.8  45212  149.171.126.4     53   udp   CON  0.000953     146   \n",
       "\n",
       "    dbytes  sttl  ...  ct_ftp_cmd  ct_srv_src  ct_srv_dst ct_dst_ltm  \\\n",
       "0     3380    31  ...                       2           2          7   \n",
       "1  1087890    31  ...                       3           1          4   \n",
       "2      178    31  ...                       3           5          2   \n",
       "3     3380    31  ...                       1           1          4   \n",
       "4      178    31  ...                       2           5          2   \n",
       "\n",
       "   ct_src_ ltm  ct_src_dport_ltm  ct_dst_sport_ltm  ct_dst_src_ltm  \\\n",
       "0            4                 1                 1               3   \n",
       "1            4                 1                 1               1   \n",
       "2            7                 1                 1               4   \n",
       "3            7                 1                 1               3   \n",
       "4            1                 1                 1               2   \n",
       "\n",
       "   attack_cat  label  \n",
       "0         NaN      0  \n",
       "1         NaN      0  \n",
       "2         NaN      0  \n",
       "3         NaN      0  \n",
       "4         NaN      0  \n",
       "\n",
       "[5 rows x 49 columns]"
      ]
     },
     "execution_count": 3,
     "metadata": {},
     "output_type": "execute_result"
    }
   ],
   "source": [
    "print(data.shape)\n",
    "data.head()"
   ]
  },
  {
   "cell_type": "code",
   "execution_count": 4,
   "id": "6e845799",
   "metadata": {},
   "outputs": [],
   "source": [
    "data = data.drop(['srcip', 'sport', 'dstip', 'dsport'], axis=1)"
   ]
  },
  {
   "cell_type": "markdown",
   "id": "c0ce3ab7",
   "metadata": {},
   "source": [
    "# Missing Entries"
   ]
  },
  {
   "cell_type": "code",
   "execution_count": 5,
   "id": "11e7b1c5",
   "metadata": {},
   "outputs": [
    {
     "data": {
      "text/plain": [
       "proto                    0\n",
       "state                    0\n",
       "dur                      0\n",
       "sbytes                   0\n",
       "dbytes                   0\n",
       "sttl                     0\n",
       "dttl                     0\n",
       "sloss                    0\n",
       "dloss                    0\n",
       "service                  0\n",
       "sload                    0\n",
       "dload                    0\n",
       "spkts                    0\n",
       "dpkts                    0\n",
       "swin                     0\n",
       "dwin                     0\n",
       "stcpb                    0\n",
       "dtcpb                    0\n",
       "smeansz                  0\n",
       "dmeansz                  0\n",
       "trans_depth              0\n",
       "res_bdy_len              0\n",
       "sjit                     0\n",
       "djit                     0\n",
       "stime                    0\n",
       "ltime                    0\n",
       "sintpkt                  0\n",
       "dintpkt                  0\n",
       "tcprtt                   0\n",
       "synack                   0\n",
       "ackdat                   0\n",
       "is_sm_ips_ports          0\n",
       "ct_state_ttl             0\n",
       "ct_flw_http_mthd    406484\n",
       "is_ftp_login        433412\n",
       "ct_ftp_cmd               0\n",
       "ct_srv_src               0\n",
       "ct_srv_dst               0\n",
       "ct_dst_ltm               0\n",
       "ct_src_ ltm              0\n",
       "ct_src_dport_ltm         0\n",
       "ct_dst_sport_ltm         0\n",
       "ct_dst_src_ltm           0\n",
       "attack_cat          351150\n",
       "label                    0\n",
       "dtype: int64"
      ]
     },
     "execution_count": 5,
     "metadata": {},
     "output_type": "execute_result"
    }
   ],
   "source": [
    "data.isnull().sum()"
   ]
  },
  {
   "cell_type": "code",
   "execution_count": 6,
   "id": "880c1e84",
   "metadata": {},
   "outputs": [
    {
     "data": {
      "text/plain": [
       "attack_cat\n",
       "Generic             61878\n",
       "Exploits            11439\n",
       " Fuzzers             5390\n",
       "DoS                  4907\n",
       " Reconnaissance      3530\n",
       "Analysis              670\n",
       "Backdoor              666\n",
       " Shellcode            371\n",
       "Worms                  43\n",
       "Name: count, dtype: int64"
      ]
     },
     "execution_count": 6,
     "metadata": {},
     "output_type": "execute_result"
    }
   ],
   "source": [
    "data['attack_cat'].value_counts()"
   ]
  },
  {
   "cell_type": "code",
   "execution_count": 7,
   "id": "7f29f727",
   "metadata": {},
   "outputs": [],
   "source": [
    "# Filling missing entries with normal category\n",
    "data['attack_cat'] = data['attack_cat'].fillna('normal')\n",
    "# Reformatting values\n",
    "data['attack_cat'] = [d.lower().strip() for d in data['attack_cat']]\n",
    "data['attack_cat'] = ['backdoor' if d=='backdoors' else d for d in data['attack_cat']]"
   ]
  },
  {
   "cell_type": "code",
   "execution_count": 8,
   "id": "258d0e6a",
   "metadata": {},
   "outputs": [
    {
     "data": {
      "text/plain": [
       "ct_flw_http_mthd\n",
       "1.0    32314\n",
       "4.0     1084\n",
       "2.0      102\n",
       "9.0       54\n",
       "6.0        6\n",
       "Name: count, dtype: int64"
      ]
     },
     "execution_count": 8,
     "metadata": {},
     "output_type": "execute_result"
    }
   ],
   "source": [
    "data['ct_flw_http_mthd'].value_counts()"
   ]
  },
  {
   "cell_type": "code",
   "execution_count": 9,
   "id": "9d9a0b49",
   "metadata": {},
   "outputs": [],
   "source": [
    "# Filling null values with 0\n",
    "data['ct_flw_http_mthd'] = data['ct_flw_http_mthd'].fillna(0)"
   ]
  },
  {
   "cell_type": "code",
   "execution_count": 10,
   "id": "720e5b17",
   "metadata": {},
   "outputs": [
    {
     "data": {
      "text/plain": [
       "is_ftp_login\n",
       "1.0    6578\n",
       "4.0      40\n",
       "2.0      14\n",
       "Name: count, dtype: int64"
      ]
     },
     "execution_count": 10,
     "metadata": {},
     "output_type": "execute_result"
    }
   ],
   "source": [
    "data['is_ftp_login'].value_counts()"
   ]
  },
  {
   "cell_type": "code",
   "execution_count": 11,
   "id": "ed73f5dc",
   "metadata": {},
   "outputs": [],
   "source": [
    "# Filling null values with 0 and converting to int\n",
    "data['is_ftp_login'] = data['is_ftp_login'].fillna(0)\n",
    "data['is_ftp_login'] = data['is_ftp_login'].astype(int)\n",
    "# is_ftp_login can only take values of [0,1]\n",
    "data['is_ftp_login'] = [0 if (d == 2 or d == 4) else d for d in data['is_ftp_login']]"
   ]
  },
  {
   "cell_type": "code",
   "execution_count": 12,
   "id": "72559670",
   "metadata": {},
   "outputs": [
    {
     "data": {
      "text/plain": [
       "service\n",
       "dns         183525\n",
       "-           178204\n",
       "http         33317\n",
       "ftp-data     18472\n",
       "smtp         12224\n",
       "ftp           6957\n",
       "ssh           6865\n",
       "pop3           363\n",
       "dhcp            45\n",
       "ssl             30\n",
       "snmp            26\n",
       "radius           9\n",
       "irc              7\n",
       "Name: count, dtype: int64"
      ]
     },
     "execution_count": 12,
     "metadata": {},
     "output_type": "execute_result"
    }
   ],
   "source": [
    "data['service'].value_counts()"
   ]
  },
  {
   "cell_type": "code",
   "execution_count": 13,
   "id": "968e5c8c",
   "metadata": {},
   "outputs": [],
   "source": [
    "# Replacing '-' with 'unknown'\n",
    "data['service'] = ['unknown' if (i=='-') else i for i in data['service']]"
   ]
  },
  {
   "cell_type": "markdown",
   "id": "896d27e5",
   "metadata": {},
   "source": [
    "# Data Types"
   ]
  },
  {
   "cell_type": "code",
   "execution_count": 14,
   "id": "70b2fd6e",
   "metadata": {},
   "outputs": [
    {
     "data": {
      "text/plain": [
       "int64      29\n",
       "float64    11\n",
       "object      5\n",
       "Name: count, dtype: int64"
      ]
     },
     "execution_count": 14,
     "metadata": {},
     "output_type": "execute_result"
    }
   ],
   "source": [
    "# Count of all the data types \n",
    "data.dtypes.value_counts()"
   ]
  },
  {
   "cell_type": "code",
   "execution_count": 15,
   "id": "cc49610c",
   "metadata": {},
   "outputs": [
    {
     "data": {
      "text/plain": [
       "Index(['proto', 'state', 'service', 'ct_ftp_cmd', 'attack_cat'], dtype='object')"
      ]
     },
     "execution_count": 15,
     "metadata": {},
     "output_type": "execute_result"
    }
   ],
   "source": [
    "# Categorical variables\n",
    "data.select_dtypes(exclude=np.number).columns"
   ]
  },
  {
   "cell_type": "code",
   "execution_count": 16,
   "id": "88441c42",
   "metadata": {},
   "outputs": [
    {
     "data": {
      "text/plain": [
       "ct_ftp_cmd\n",
       "     433412\n",
       "1      6578\n",
       "4        40\n",
       "2        14\n",
       "Name: count, dtype: int64"
      ]
     },
     "execution_count": 16,
     "metadata": {},
     "output_type": "execute_result"
    }
   ],
   "source": [
    "# Research paper states that this is a numerical feature\n",
    "data['ct_ftp_cmd'].value_counts()"
   ]
  },
  {
   "cell_type": "code",
   "execution_count": 17,
   "id": "97194d07",
   "metadata": {},
   "outputs": [],
   "source": [
    "# Filling white spaces as 0 and converting to int\n",
    "data['ct_ftp_cmd'] = [0 if (i==' ') else i for i in data['ct_ftp_cmd']]\n",
    "data['ct_ftp_cmd'] = data['ct_ftp_cmd'].astype(int)"
   ]
  },
  {
   "cell_type": "code",
   "execution_count": 18,
   "id": "87242a0c",
   "metadata": {},
   "outputs": [
    {
     "data": {
      "text/plain": [
       "Index(['dur', 'sbytes', 'dbytes', 'sttl', 'dttl', 'sloss', 'dloss', 'sload',\n",
       "       'dload', 'spkts', 'dpkts', 'swin', 'dwin', 'stcpb', 'dtcpb', 'smeansz',\n",
       "       'dmeansz', 'trans_depth', 'res_bdy_len', 'sjit', 'djit', 'stime',\n",
       "       'ltime', 'sintpkt', 'dintpkt', 'tcprtt', 'synack', 'ackdat',\n",
       "       'is_sm_ips_ports', 'ct_state_ttl', 'ct_flw_http_mthd', 'is_ftp_login',\n",
       "       'ct_ftp_cmd', 'ct_srv_src', 'ct_srv_dst', 'ct_dst_ltm', 'ct_src_ ltm',\n",
       "       'ct_src_dport_ltm', 'ct_dst_sport_ltm', 'ct_dst_src_ltm', 'label'],\n",
       "      dtype='object')"
      ]
     },
     "execution_count": 18,
     "metadata": {},
     "output_type": "execute_result"
    }
   ],
   "source": [
    "# Numerical\n",
    "data.select_dtypes(include=np.number).columns"
   ]
  },
  {
   "cell_type": "code",
   "execution_count": 19,
   "id": "0305faa4",
   "metadata": {
    "scrolled": true
   },
   "outputs": [
    {
     "name": "stdout",
     "output_type": "stream",
     "text": [
      "is_sm_ips_ports\n",
      "0    439610\n",
      "1       434\n",
      "Name: count, dtype: int64\n",
      "is_ftp_login\n",
      "0    433466\n",
      "1      6578\n",
      "Name: count, dtype: int64\n",
      "label\n",
      "0    351150\n",
      "1     88894\n",
      "Name: count, dtype: int64\n"
     ]
    }
   ],
   "source": [
    "# Binarized categorical variables\n",
    "print(data['is_sm_ips_ports'].value_counts())\n",
    "print(data['is_ftp_login'].value_counts())\n",
    "print(data['label'].value_counts())"
   ]
  },
  {
   "cell_type": "markdown",
   "id": "77b2a83d",
   "metadata": {},
   "source": [
    "# Train Test split"
   ]
  },
  {
   "cell_type": "code",
   "execution_count": 20,
   "id": "0609867e",
   "metadata": {},
   "outputs": [],
   "source": [
    "train, test = train_test_split(data, stratify=data['attack_cat'], test_size=0.3, random_state=123)"
   ]
  },
  {
   "cell_type": "markdown",
   "id": "39455d66",
   "metadata": {},
   "source": [
    "# Outputting Cleaned Data"
   ]
  },
  {
   "cell_type": "code",
   "execution_count": 21,
   "id": "404f6948",
   "metadata": {},
   "outputs": [],
   "source": [
    "train.to_pickle(f'{path}train.pkl')\n",
    "test.to_pickle(f'{path}test.pkl')"
   ]
  }
 ],
 "metadata": {
  "kernelspec": {
   "display_name": "Python 3 (ipykernel)",
   "language": "python",
   "name": "python3"
  },
  "language_info": {
   "codemirror_mode": {
    "name": "ipython",
    "version": 3
   },
   "file_extension": ".py",
   "mimetype": "text/x-python",
   "name": "python",
   "nbconvert_exporter": "python",
   "pygments_lexer": "ipython3",
   "version": "3.11.2"
  }
 },
 "nbformat": 4,
 "nbformat_minor": 5
}
